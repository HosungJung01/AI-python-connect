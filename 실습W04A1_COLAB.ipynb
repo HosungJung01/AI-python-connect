{
  "nbformat": 4,
  "nbformat_minor": 0,
  "metadata": {
    "colab": {
      "name": "실습W04A1_COLAB.ipynb",
      "provenance": [],
      "collapsed_sections": [],
      "authorship_tag": "ABX9TyNou0z5A+Jq2pcWd5r4EWjo",
      "include_colab_link": true
    },
    "kernelspec": {
      "name": "python3",
      "display_name": "Python 3"
    },
    "accelerator": "GPU"
  },
  "cells": [
    {
      "cell_type": "markdown",
      "metadata": {
        "id": "view-in-github",
        "colab_type": "text"
      },
      "source": [
        "<a href=\"https://colab.research.google.com/github/HosungJung01/AI-python-connect/blob/master/%EC%8B%A4%EC%8A%B5W04A1_COLAB.ipynb\" target=\"_parent\"><img src=\"https://colab.research.google.com/assets/colab-badge.svg\" alt=\"Open In Colab\"/></a>"
      ]
    },
    {
      "cell_type": "code",
      "metadata": {
        "id": "7yCLC74f-NHU",
        "colab_type": "code",
        "colab": {},
        "cellView": "both"
      },
      "source": [
        "#@title\n",
        "%matplotlib inline\n",
        "import numpy as np\n",
        "import matplotlib.pyplot as plt\n",
        "import pandas as pd\n",
        "import statsmodels.api as sm\n",
        "from statsmodels.iolib.summary2 import summary_col"
      ],
      "execution_count": null,
      "outputs": []
    },
    {
      "cell_type": "code",
      "metadata": {
        "id": "AF2NTgcP-bbH",
        "colab_type": "code",
        "colab": {}
      },
      "source": [
        "import tensorflow as tf\n"
      ],
      "execution_count": null,
      "outputs": []
    },
    {
      "cell_type": "code",
      "metadata": {
        "id": "tSOG5TDg-i3b",
        "colab_type": "code",
        "colab": {}
      },
      "source": [
        "tf.__version__"
      ],
      "execution_count": null,
      "outputs": []
    },
    {
      "cell_type": "markdown",
      "metadata": {
        "id": "zmHxKNxFHm08",
        "colab_type": "text"
      },
      "source": [
        ""
      ]
    },
    {
      "cell_type": "code",
      "metadata": {
        "id": "MBlR5LkO-mKW",
        "colab_type": "code",
        "colab": {}
      },
      "source": [
        "np.set_printoptions(precision=5)\n",
        "np.set_printoptions(suppress=True)"
      ],
      "execution_count": null,
      "outputs": []
    },
    {
      "cell_type": "markdown",
      "metadata": {
        "id": "rGEcEBT2ADBo",
        "colab_type": "text"
      },
      "source": [
        "*외부화일을* colab에서 이용합니다."
      ]
    },
    {
      "cell_type": "code",
      "metadata": {
        "id": "BweRvhUvAKPB",
        "colab_type": "code",
        "colab": {}
      },
      "source": [
        "from google.colab import drive\n",
        "drive.mount('/content/gdrive')"
      ],
      "execution_count": null,
      "outputs": []
    },
    {
      "cell_type": "code",
      "metadata": {
        "id": "LPPpX8jE_z9j",
        "colab_type": "code",
        "colab": {}
      },
      "source": [
        "data = pd.read_csv('/content/gdrive/My Drive/HSCHUNG/PYTHON/B_CLASS/B_AppliedDataAnalysis/DATA/MACRO_202006.csv')"
      ],
      "execution_count": null,
      "outputs": []
    },
    {
      "cell_type": "code",
      "metadata": {
        "id": "XL_FU-BhHXjS",
        "colab_type": "code",
        "colab": {}
      },
      "source": [
        "data['QUARTER'] = ((data['YYM'] % 100)/3).astype(int) # % 나머지 구하기 , // 몫 구하기"
      ],
      "execution_count": null,
      "outputs": []
    },
    {
      "cell_type": "code",
      "metadata": {
        "id": "vs7y4PY_NV6Y",
        "colab_type": "code",
        "colab": {
          "base_uri": "https://localhost:8080/",
          "height": 197
        },
        "outputId": "868b1278-8b24-4c06-fa59-ecdd70477918"
      },
      "source": [
        "data.head()"
      ],
      "execution_count": 16,
      "outputs": [
        {
          "output_type": "execute_result",
          "data": {
            "text/html": [
              "<div>\n",
              "<style scoped>\n",
              "    .dataframe tbody tr th:only-of-type {\n",
              "        vertical-align: middle;\n",
              "    }\n",
              "\n",
              "    .dataframe tbody tr th {\n",
              "        vertical-align: top;\n",
              "    }\n",
              "\n",
              "    .dataframe thead th {\n",
              "        text-align: right;\n",
              "    }\n",
              "</style>\n",
              "<table border=\"1\" class=\"dataframe\">\n",
              "  <thead>\n",
              "    <tr style=\"text-align: right;\">\n",
              "      <th></th>\n",
              "      <th>YYM</th>\n",
              "      <th>REALGDP</th>\n",
              "      <th>REALCONS</th>\n",
              "      <th>INV</th>\n",
              "      <th>M2</th>\n",
              "      <th>INFL</th>\n",
              "      <th>UNEMP</th>\n",
              "      <th>EMPLOY</th>\n",
              "      <th>CD_3M</th>\n",
              "      <th>QUARTER</th>\n",
              "      <th>RollingMean</th>\n",
              "      <th>TARGET</th>\n",
              "      <th>TARGET1</th>\n",
              "    </tr>\n",
              "  </thead>\n",
              "  <tbody>\n",
              "    <tr>\n",
              "      <th>0</th>\n",
              "      <td>200112</td>\n",
              "      <td>1.8</td>\n",
              "      <td>2.6</td>\n",
              "      <td>-4.000543</td>\n",
              "      <td>NaN</td>\n",
              "      <td>NaN</td>\n",
              "      <td>3.7</td>\n",
              "      <td>0.709908</td>\n",
              "      <td>4.84</td>\n",
              "      <td>4</td>\n",
              "      <td>NaN</td>\n",
              "      <td>0</td>\n",
              "      <td>0.0</td>\n",
              "    </tr>\n",
              "    <tr>\n",
              "      <th>1</th>\n",
              "      <td>200203</td>\n",
              "      <td>2.5</td>\n",
              "      <td>3.4</td>\n",
              "      <td>2.189682</td>\n",
              "      <td>0.045954</td>\n",
              "      <td>0.016273</td>\n",
              "      <td>3.4</td>\n",
              "      <td>0.890261</td>\n",
              "      <td>4.64</td>\n",
              "      <td>1</td>\n",
              "      <td>NaN</td>\n",
              "      <td>0</td>\n",
              "      <td>0.0</td>\n",
              "    </tr>\n",
              "    <tr>\n",
              "      <th>2</th>\n",
              "      <td>200206</td>\n",
              "      <td>1.8</td>\n",
              "      <td>2.0</td>\n",
              "      <td>7.228907</td>\n",
              "      <td>0.027788</td>\n",
              "      <td>0.008481</td>\n",
              "      <td>3.1</td>\n",
              "      <td>0.514057</td>\n",
              "      <td>4.85</td>\n",
              "      <td>2</td>\n",
              "      <td>NaN</td>\n",
              "      <td>0</td>\n",
              "      <td>0.0</td>\n",
              "    </tr>\n",
              "    <tr>\n",
              "      <th>3</th>\n",
              "      <td>200209</td>\n",
              "      <td>2.0</td>\n",
              "      <td>0.7</td>\n",
              "      <td>-0.144686</td>\n",
              "      <td>0.033735</td>\n",
              "      <td>0.009364</td>\n",
              "      <td>3.0</td>\n",
              "      <td>0.372316</td>\n",
              "      <td>4.81</td>\n",
              "      <td>3</td>\n",
              "      <td>NaN</td>\n",
              "      <td>0</td>\n",
              "      <td>0.0</td>\n",
              "    </tr>\n",
              "    <tr>\n",
              "      <th>4</th>\n",
              "      <td>200212</td>\n",
              "      <td>1.1</td>\n",
              "      <td>-0.1</td>\n",
              "      <td>5.945974</td>\n",
              "      <td>0.026861</td>\n",
              "      <td>0.002754</td>\n",
              "      <td>3.1</td>\n",
              "      <td>0.156986</td>\n",
              "      <td>4.90</td>\n",
              "      <td>4</td>\n",
              "      <td>NaN</td>\n",
              "      <td>0</td>\n",
              "      <td>0.0</td>\n",
              "    </tr>\n",
              "  </tbody>\n",
              "</table>\n",
              "</div>"
            ],
            "text/plain": [
              "      YYM  REALGDP  REALCONS       INV  ...  QUARTER  RollingMean  TARGET  TARGET1\n",
              "0  200112      1.8       2.6 -4.000543  ...        4          NaN       0      0.0\n",
              "1  200203      2.5       3.4  2.189682  ...        1          NaN       0      0.0\n",
              "2  200206      1.8       2.0  7.228907  ...        2          NaN       0      0.0\n",
              "3  200209      2.0       0.7 -0.144686  ...        3          NaN       0      0.0\n",
              "4  200212      1.1      -0.1  5.945974  ...        4          NaN       0      0.0\n",
              "\n",
              "[5 rows x 13 columns]"
            ]
          },
          "metadata": {
            "tags": []
          },
          "execution_count": 16
        }
      ]
    },
    {
      "cell_type": "code",
      "metadata": {
        "id": "tH-emVsyHbp7",
        "colab_type": "code",
        "colab": {}
      },
      "source": [
        "data['RollingMean']= data.REALGDP.rolling(20).mean()"
      ],
      "execution_count": null,
      "outputs": []
    },
    {
      "cell_type": "code",
      "metadata": {
        "colab_type": "code",
        "id": "Koqo-9mBHhjL",
        "colab": {}
      },
      "source": [
        "data['TARGET'] = (data.REALGDP > data.RollingMean).astype(int)"
      ],
      "execution_count": null,
      "outputs": []
    },
    {
      "cell_type": "code",
      "metadata": {
        "id": "MemW4YVQH2uf",
        "colab_type": "code",
        "colab": {}
      },
      "source": [
        "data['TARGET1'] = data['TARGET'].shift(-1) # 다음분기의 결과를 현재 분기에 일치(예측하기 위한 것임)"
      ],
      "execution_count": null,
      "outputs": []
    },
    {
      "cell_type": "code",
      "metadata": {
        "colab_type": "code",
        "id": "CtJa2T5MHg7F",
        "colab": {}
      },
      "source": [
        "pct_cols = ['M2', 'INFL']\n",
        "#drop_cols = ['year', 'realgdp', 'pop', 'cpi', 'growth_rate']\n",
        "data.loc[:, pct_cols] = data.loc[:, pct_cols].pct_change(1)"
      ],
      "execution_count": null,
      "outputs": []
    },
    {
      "cell_type": "code",
      "metadata": {
        "id": "IElxOAfzIFLW",
        "colab_type": "code",
        "colab": {}
      },
      "source": [
        "data1 = pd.get_dummies(data, columns=['QUARTER'], drop_first=True).dropna()"
      ],
      "execution_count": null,
      "outputs": []
    },
    {
      "cell_type": "code",
      "metadata": {
        "id": "C6hZRglBII6v",
        "colab_type": "code",
        "colab": {}
      },
      "source": [
        "data1 = data1.drop(['YYM', 'REALGDP', 'TARGET', 'RollingMean'], axis=1)"
      ],
      "execution_count": null,
      "outputs": []
    },
    {
      "cell_type": "code",
      "metadata": {
        "id": "NVVPcbHxILzp",
        "colab_type": "code",
        "colab": {}
      },
      "source": [
        "model = sm.Logit(data1.TARGET1, sm.add_constant(data1.drop(['TARGET1'], axis=1)))\n",
        "result = model.fit()\n",
        "result.summary()"
      ],
      "execution_count": null,
      "outputs": []
    },
    {
      "cell_type": "code",
      "metadata": {
        "id": "qGMShuJsIOCY",
        "colab_type": "code",
        "colab": {}
      },
      "source": [
        "plt.rc('figure', figsize=(12, 7))\n",
        "plt.text(0.01, 0.05, str(result.summary()), {'fontsize': 14}, fontproperties = 'monospace')\n",
        "plt.axis('off')\n",
        "plt.tight_layout()\n",
        "plt.subplots_adjust(left=0.2, right=0.8, top=0.8, bottom=0.1)\n",
        "plt.savefig('/content/gdrive/My Drive/HSCHUNG/PYTHON/B_CLASS/B_AppliedDataAnalysis/DATA/logistic_example.png', bbox_inches='tight', dpi=300);"
      ],
      "execution_count": null,
      "outputs": []
    },
    {
      "cell_type": "code",
      "metadata": {
        "id": "hDBVDYsGIRfK",
        "colab_type": "code",
        "colab": {}
      },
      "source": [
        ""
      ],
      "execution_count": null,
      "outputs": []
    }
  ]
}