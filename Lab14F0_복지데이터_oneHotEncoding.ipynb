{
  "nbformat": 4,
  "nbformat_minor": 0,
  "metadata": {
    "kernelspec": {
      "display_name": "Python 3",
      "language": "python",
      "name": "python3"
    },
    "language_info": {
      "codemirror_mode": {
        "name": "ipython",
        "version": 3
      },
      "file_extension": ".py",
      "mimetype": "text/x-python",
      "name": "python",
      "nbconvert_exporter": "python",
      "pygments_lexer": "ipython3",
      "version": "3.7.4"
    },
    "colab": {
      "name": "Lab14F0_복지데이터_oneHotEncoding.ipynb",
      "provenance": [],
      "collapsed_sections": [],
      "include_colab_link": true
    }
  },
  "cells": [
    {
      "cell_type": "markdown",
      "metadata": {
        "id": "view-in-github",
        "colab_type": "text"
      },
      "source": [
        "<a href=\"https://colab.research.google.com/github/HosungJung01/AI-python-connect/blob/master/Lab14F0_%EB%B3%B5%EC%A7%80%EB%8D%B0%EC%9D%B4%ED%84%B0_oneHotEncoding.ipynb\" target=\"_parent\"><img src=\"https://colab.research.google.com/assets/colab-badge.svg\" alt=\"Open In Colab\"/></a>"
      ]
    },
    {
      "cell_type": "code",
      "metadata": {
        "id": "fUn9aA35wRCK",
        "colab_type": "code",
        "colab": {}
      },
      "source": [
        "%matplotlib inline\n",
        "import numpy as np\n",
        "import pandas as pd\n",
        "import matplotlib.pyplot as plt"
      ],
      "execution_count": 0,
      "outputs": []
    },
    {
      "cell_type": "code",
      "metadata": {
        "id": "0kps-MIqwRCT",
        "colab_type": "code",
        "outputId": "ba6d85a9-0cad-4664-c794-b30c102488db",
        "colab": {
          "base_uri": "https://localhost:8080/",
          "height": 54
        }
      },
      "source": [
        "import statsmodels.api as sm\n",
        "from statsmodels.formula.api import ols\n",
        "from statsmodels.iolib.summary2 import summary_col"
      ],
      "execution_count": 0,
      "outputs": [
        {
          "output_type": "stream",
          "text": [
            "/usr/local/lib/python3.6/dist-packages/statsmodels/tools/_testing.py:19: FutureWarning: pandas.util.testing is deprecated. Use the functions in the public API at pandas.testing instead.\n",
            "  import pandas.util.testing as tm\n"
          ],
          "name": "stderr"
        }
      ]
    },
    {
      "cell_type": "code",
      "metadata": {
        "id": "DKLriDMXwRCW",
        "colab_type": "code",
        "outputId": "5da04a5e-03c9-4bb9-c935-abf3e1c8a0a8",
        "colab": {
          "base_uri": "https://localhost:8080/",
          "height": 35
        }
      },
      "source": [
        "import tensorflow as tf\n",
        "tf.random.set_seed(777)  # for reproducibility\n",
        "print(tf.__version__)"
      ],
      "execution_count": 0,
      "outputs": [
        {
          "output_type": "stream",
          "text": [
            "2.2.0\n"
          ],
          "name": "stdout"
        }
      ]
    },
    {
      "cell_type": "code",
      "metadata": {
        "id": "9cZVKQvgwRCa",
        "colab_type": "code",
        "colab": {}
      },
      "source": [
        "np.set_printoptions(precision=5)\n",
        "np.set_printoptions(suppress=True)"
      ],
      "execution_count": 0,
      "outputs": []
    },
    {
      "cell_type": "markdown",
      "metadata": {
        "id": "dlsddfoHwRCd",
        "colab_type": "text"
      },
      "source": [
        "### 1.2019년 가계복지데이터를 이용하여 성별, 나이, 소득, 종교여부, 흡연상태, 결혼상태에 관한 데이터를 추출합니다.(10점)\n",
        "이용자료 : koweps_hpwc14_2019_beta1.sas7bdat"
      ]
    },
    {
      "cell_type": "code",
      "metadata": {
        "id": "WhQMomJ9wRCd",
        "colab_type": "code",
        "outputId": "4a359449-69cd-4749-d4a0-f1c5f3eabf35",
        "colab": {
          "base_uri": "https://localhost:8080/",
          "height": 396
        }
      },
      "source": [
        "df = pd.read_csv(\"C:/HSCHUNG/PYTHON/B_CLASS/A_BigDataEconomics/DATA/C_KOWEPS/A_koweps01.csv\")"
      ],
      "execution_count": 0,
      "outputs": [
        {
          "output_type": "error",
          "ename": "FileNotFoundError",
          "evalue": "ignored",
          "traceback": [
            "\u001b[0;31m---------------------------------------------------------------------------\u001b[0m",
            "\u001b[0;31mFileNotFoundError\u001b[0m                         Traceback (most recent call last)",
            "\u001b[0;32m<ipython-input-5-81dfe55367e2>\u001b[0m in \u001b[0;36m<module>\u001b[0;34m()\u001b[0m\n\u001b[0;32m----> 1\u001b[0;31m \u001b[0mdf\u001b[0m \u001b[0;34m=\u001b[0m \u001b[0mpd\u001b[0m\u001b[0;34m.\u001b[0m\u001b[0mread_csv\u001b[0m\u001b[0;34m(\u001b[0m\u001b[0;34m\"C:/HSCHUNG/PYTHON/B_CLASS/A_BigDataEconomics/DATA/C_KOWEPS/A_koweps01.csv\"\u001b[0m\u001b[0;34m)\u001b[0m\u001b[0;34m\u001b[0m\u001b[0;34m\u001b[0m\u001b[0m\n\u001b[0m",
            "\u001b[0;32m/usr/local/lib/python3.6/dist-packages/pandas/io/parsers.py\u001b[0m in \u001b[0;36mparser_f\u001b[0;34m(filepath_or_buffer, sep, delimiter, header, names, index_col, usecols, squeeze, prefix, mangle_dupe_cols, dtype, engine, converters, true_values, false_values, skipinitialspace, skiprows, skipfooter, nrows, na_values, keep_default_na, na_filter, verbose, skip_blank_lines, parse_dates, infer_datetime_format, keep_date_col, date_parser, dayfirst, cache_dates, iterator, chunksize, compression, thousands, decimal, lineterminator, quotechar, quoting, doublequote, escapechar, comment, encoding, dialect, error_bad_lines, warn_bad_lines, delim_whitespace, low_memory, memory_map, float_precision)\u001b[0m\n\u001b[1;32m    674\u001b[0m         )\n\u001b[1;32m    675\u001b[0m \u001b[0;34m\u001b[0m\u001b[0m\n\u001b[0;32m--> 676\u001b[0;31m         \u001b[0;32mreturn\u001b[0m \u001b[0m_read\u001b[0m\u001b[0;34m(\u001b[0m\u001b[0mfilepath_or_buffer\u001b[0m\u001b[0;34m,\u001b[0m \u001b[0mkwds\u001b[0m\u001b[0;34m)\u001b[0m\u001b[0;34m\u001b[0m\u001b[0;34m\u001b[0m\u001b[0m\n\u001b[0m\u001b[1;32m    677\u001b[0m \u001b[0;34m\u001b[0m\u001b[0m\n\u001b[1;32m    678\u001b[0m     \u001b[0mparser_f\u001b[0m\u001b[0;34m.\u001b[0m\u001b[0m__name__\u001b[0m \u001b[0;34m=\u001b[0m \u001b[0mname\u001b[0m\u001b[0;34m\u001b[0m\u001b[0;34m\u001b[0m\u001b[0m\n",
            "\u001b[0;32m/usr/local/lib/python3.6/dist-packages/pandas/io/parsers.py\u001b[0m in \u001b[0;36m_read\u001b[0;34m(filepath_or_buffer, kwds)\u001b[0m\n\u001b[1;32m    446\u001b[0m \u001b[0;34m\u001b[0m\u001b[0m\n\u001b[1;32m    447\u001b[0m     \u001b[0;31m# Create the parser.\u001b[0m\u001b[0;34m\u001b[0m\u001b[0;34m\u001b[0m\u001b[0;34m\u001b[0m\u001b[0m\n\u001b[0;32m--> 448\u001b[0;31m     \u001b[0mparser\u001b[0m \u001b[0;34m=\u001b[0m \u001b[0mTextFileReader\u001b[0m\u001b[0;34m(\u001b[0m\u001b[0mfp_or_buf\u001b[0m\u001b[0;34m,\u001b[0m \u001b[0;34m**\u001b[0m\u001b[0mkwds\u001b[0m\u001b[0;34m)\u001b[0m\u001b[0;34m\u001b[0m\u001b[0;34m\u001b[0m\u001b[0m\n\u001b[0m\u001b[1;32m    449\u001b[0m \u001b[0;34m\u001b[0m\u001b[0m\n\u001b[1;32m    450\u001b[0m     \u001b[0;32mif\u001b[0m \u001b[0mchunksize\u001b[0m \u001b[0;32mor\u001b[0m \u001b[0miterator\u001b[0m\u001b[0;34m:\u001b[0m\u001b[0;34m\u001b[0m\u001b[0;34m\u001b[0m\u001b[0m\n",
            "\u001b[0;32m/usr/local/lib/python3.6/dist-packages/pandas/io/parsers.py\u001b[0m in \u001b[0;36m__init__\u001b[0;34m(self, f, engine, **kwds)\u001b[0m\n\u001b[1;32m    878\u001b[0m             \u001b[0mself\u001b[0m\u001b[0;34m.\u001b[0m\u001b[0moptions\u001b[0m\u001b[0;34m[\u001b[0m\u001b[0;34m\"has_index_names\"\u001b[0m\u001b[0;34m]\u001b[0m \u001b[0;34m=\u001b[0m \u001b[0mkwds\u001b[0m\u001b[0;34m[\u001b[0m\u001b[0;34m\"has_index_names\"\u001b[0m\u001b[0;34m]\u001b[0m\u001b[0;34m\u001b[0m\u001b[0;34m\u001b[0m\u001b[0m\n\u001b[1;32m    879\u001b[0m \u001b[0;34m\u001b[0m\u001b[0m\n\u001b[0;32m--> 880\u001b[0;31m         \u001b[0mself\u001b[0m\u001b[0;34m.\u001b[0m\u001b[0m_make_engine\u001b[0m\u001b[0;34m(\u001b[0m\u001b[0mself\u001b[0m\u001b[0;34m.\u001b[0m\u001b[0mengine\u001b[0m\u001b[0;34m)\u001b[0m\u001b[0;34m\u001b[0m\u001b[0;34m\u001b[0m\u001b[0m\n\u001b[0m\u001b[1;32m    881\u001b[0m \u001b[0;34m\u001b[0m\u001b[0m\n\u001b[1;32m    882\u001b[0m     \u001b[0;32mdef\u001b[0m \u001b[0mclose\u001b[0m\u001b[0;34m(\u001b[0m\u001b[0mself\u001b[0m\u001b[0;34m)\u001b[0m\u001b[0;34m:\u001b[0m\u001b[0;34m\u001b[0m\u001b[0;34m\u001b[0m\u001b[0m\n",
            "\u001b[0;32m/usr/local/lib/python3.6/dist-packages/pandas/io/parsers.py\u001b[0m in \u001b[0;36m_make_engine\u001b[0;34m(self, engine)\u001b[0m\n\u001b[1;32m   1112\u001b[0m     \u001b[0;32mdef\u001b[0m \u001b[0m_make_engine\u001b[0m\u001b[0;34m(\u001b[0m\u001b[0mself\u001b[0m\u001b[0;34m,\u001b[0m \u001b[0mengine\u001b[0m\u001b[0;34m=\u001b[0m\u001b[0;34m\"c\"\u001b[0m\u001b[0;34m)\u001b[0m\u001b[0;34m:\u001b[0m\u001b[0;34m\u001b[0m\u001b[0;34m\u001b[0m\u001b[0m\n\u001b[1;32m   1113\u001b[0m         \u001b[0;32mif\u001b[0m \u001b[0mengine\u001b[0m \u001b[0;34m==\u001b[0m \u001b[0;34m\"c\"\u001b[0m\u001b[0;34m:\u001b[0m\u001b[0;34m\u001b[0m\u001b[0;34m\u001b[0m\u001b[0m\n\u001b[0;32m-> 1114\u001b[0;31m             \u001b[0mself\u001b[0m\u001b[0;34m.\u001b[0m\u001b[0m_engine\u001b[0m \u001b[0;34m=\u001b[0m \u001b[0mCParserWrapper\u001b[0m\u001b[0;34m(\u001b[0m\u001b[0mself\u001b[0m\u001b[0;34m.\u001b[0m\u001b[0mf\u001b[0m\u001b[0;34m,\u001b[0m \u001b[0;34m**\u001b[0m\u001b[0mself\u001b[0m\u001b[0;34m.\u001b[0m\u001b[0moptions\u001b[0m\u001b[0;34m)\u001b[0m\u001b[0;34m\u001b[0m\u001b[0;34m\u001b[0m\u001b[0m\n\u001b[0m\u001b[1;32m   1115\u001b[0m         \u001b[0;32melse\u001b[0m\u001b[0;34m:\u001b[0m\u001b[0;34m\u001b[0m\u001b[0;34m\u001b[0m\u001b[0m\n\u001b[1;32m   1116\u001b[0m             \u001b[0;32mif\u001b[0m \u001b[0mengine\u001b[0m \u001b[0;34m==\u001b[0m \u001b[0;34m\"python\"\u001b[0m\u001b[0;34m:\u001b[0m\u001b[0;34m\u001b[0m\u001b[0;34m\u001b[0m\u001b[0m\n",
            "\u001b[0;32m/usr/local/lib/python3.6/dist-packages/pandas/io/parsers.py\u001b[0m in \u001b[0;36m__init__\u001b[0;34m(self, src, **kwds)\u001b[0m\n\u001b[1;32m   1889\u001b[0m         \u001b[0mkwds\u001b[0m\u001b[0;34m[\u001b[0m\u001b[0;34m\"usecols\"\u001b[0m\u001b[0;34m]\u001b[0m \u001b[0;34m=\u001b[0m \u001b[0mself\u001b[0m\u001b[0;34m.\u001b[0m\u001b[0musecols\u001b[0m\u001b[0;34m\u001b[0m\u001b[0;34m\u001b[0m\u001b[0m\n\u001b[1;32m   1890\u001b[0m \u001b[0;34m\u001b[0m\u001b[0m\n\u001b[0;32m-> 1891\u001b[0;31m         \u001b[0mself\u001b[0m\u001b[0;34m.\u001b[0m\u001b[0m_reader\u001b[0m \u001b[0;34m=\u001b[0m \u001b[0mparsers\u001b[0m\u001b[0;34m.\u001b[0m\u001b[0mTextReader\u001b[0m\u001b[0;34m(\u001b[0m\u001b[0msrc\u001b[0m\u001b[0;34m,\u001b[0m \u001b[0;34m**\u001b[0m\u001b[0mkwds\u001b[0m\u001b[0;34m)\u001b[0m\u001b[0;34m\u001b[0m\u001b[0;34m\u001b[0m\u001b[0m\n\u001b[0m\u001b[1;32m   1892\u001b[0m         \u001b[0mself\u001b[0m\u001b[0;34m.\u001b[0m\u001b[0munnamed_cols\u001b[0m \u001b[0;34m=\u001b[0m \u001b[0mself\u001b[0m\u001b[0;34m.\u001b[0m\u001b[0m_reader\u001b[0m\u001b[0;34m.\u001b[0m\u001b[0munnamed_cols\u001b[0m\u001b[0;34m\u001b[0m\u001b[0;34m\u001b[0m\u001b[0m\n\u001b[1;32m   1893\u001b[0m \u001b[0;34m\u001b[0m\u001b[0m\n",
            "\u001b[0;32mpandas/_libs/parsers.pyx\u001b[0m in \u001b[0;36mpandas._libs.parsers.TextReader.__cinit__\u001b[0;34m()\u001b[0m\n",
            "\u001b[0;32mpandas/_libs/parsers.pyx\u001b[0m in \u001b[0;36mpandas._libs.parsers.TextReader._setup_parser_source\u001b[0;34m()\u001b[0m\n",
            "\u001b[0;31mFileNotFoundError\u001b[0m: [Errno 2] File C:/HSCHUNG/PYTHON/B_CLASS/A_BigDataEconomics/DATA/C_KOWEPS/A_koweps01.csv does not exist: 'C:/HSCHUNG/PYTHON/B_CLASS/A_BigDataEconomics/DATA/C_KOWEPS/A_koweps01.csv'"
          ]
        }
      ]
    },
    {
      "cell_type": "code",
      "metadata": {
        "id": "tDuQv7RPwRCh",
        "colab_type": "code",
        "colab": {}
      },
      "source": [
        "df['age'] = (2020 - df['birth']).astype('int')"
      ],
      "execution_count": 0,
      "outputs": []
    },
    {
      "cell_type": "code",
      "metadata": {
        "id": "moVxCEpywRCj",
        "colab_type": "code",
        "colab": {}
      },
      "source": [
        "# marriage = 혼인상태 0.비해당(18세 미만) 1.유배우 2.사별 3.이혼 4.별거 5.미혼(18세이상, 미혼모 포함) 6.기타(사망 등)\n",
        "# 1. 유배우, 3, 이혼, 4, 별거, 5. 미혼 만 남김"
      ],
      "execution_count": 0,
      "outputs": []
    },
    {
      "cell_type": "code",
      "metadata": {
        "id": "y2XqhzOowRCl",
        "colab_type": "code",
        "colab": {}
      },
      "source": [
        "df1 = df[df['marriage'].isin([1,3,4,5])]"
      ],
      "execution_count": 0,
      "outputs": []
    },
    {
      "cell_type": "code",
      "metadata": {
        "id": "_zYzNOzxwRCn",
        "colab_type": "code",
        "outputId": "f4cc31cb-2f6c-4ffc-b318-8e98d49cfd7c",
        "colab": {}
      },
      "source": [
        "df1"
      ],
      "execution_count": 0,
      "outputs": [
        {
          "output_type": "execute_result",
          "data": {
            "text/html": [
              "<div>\n",
              "<style scoped>\n",
              "    .dataframe tbody tr th:only-of-type {\n",
              "        vertical-align: middle;\n",
              "    }\n",
              "\n",
              "    .dataframe tbody tr th {\n",
              "        vertical-align: top;\n",
              "    }\n",
              "\n",
              "    .dataframe thead th {\n",
              "        text-align: right;\n",
              "    }\n",
              "</style>\n",
              "<table border=\"1\" class=\"dataframe\">\n",
              "  <thead>\n",
              "    <tr style=\"text-align: right;\">\n",
              "      <th></th>\n",
              "      <th>sex</th>\n",
              "      <th>birth</th>\n",
              "      <th>number</th>\n",
              "      <th>education</th>\n",
              "      <th>marriage</th>\n",
              "      <th>religion</th>\n",
              "      <th>region</th>\n",
              "      <th>job</th>\n",
              "      <th>income</th>\n",
              "      <th>somking</th>\n",
              "      <th>education_year</th>\n",
              "      <th>age</th>\n",
              "    </tr>\n",
              "  </thead>\n",
              "  <tbody>\n",
              "    <tr>\n",
              "      <td>0</td>\n",
              "      <td>1.0</td>\n",
              "      <td>1942</td>\n",
              "      <td>2.0</td>\n",
              "      <td>7.0</td>\n",
              "      <td>3.0</td>\n",
              "      <td>1.0</td>\n",
              "      <td>1.0</td>\n",
              "      <td>762.0</td>\n",
              "      <td>108.9</td>\n",
              "      <td>2.0</td>\n",
              "      <td>16</td>\n",
              "      <td>78</td>\n",
              "    </tr>\n",
              "    <tr>\n",
              "      <td>2</td>\n",
              "      <td>1.0</td>\n",
              "      <td>1978</td>\n",
              "      <td>4.0</td>\n",
              "      <td>7.0</td>\n",
              "      <td>1.0</td>\n",
              "      <td>2.0</td>\n",
              "      <td>1.0</td>\n",
              "      <td>312.0</td>\n",
              "      <td>322.0</td>\n",
              "      <td>1.0</td>\n",
              "      <td>16</td>\n",
              "      <td>42</td>\n",
              "    </tr>\n",
              "    <tr>\n",
              "      <td>3</td>\n",
              "      <td>2.0</td>\n",
              "      <td>1975</td>\n",
              "      <td>4.0</td>\n",
              "      <td>7.0</td>\n",
              "      <td>1.0</td>\n",
              "      <td>2.0</td>\n",
              "      <td>1.0</td>\n",
              "      <td>254.0</td>\n",
              "      <td>120.0</td>\n",
              "      <td>2.0</td>\n",
              "      <td>16</td>\n",
              "      <td>45</td>\n",
              "    </tr>\n",
              "    <tr>\n",
              "      <td>4</td>\n",
              "      <td>1.0</td>\n",
              "      <td>1975</td>\n",
              "      <td>1.0</td>\n",
              "      <td>7.0</td>\n",
              "      <td>5.0</td>\n",
              "      <td>1.0</td>\n",
              "      <td>1.0</td>\n",
              "      <td>286.0</td>\n",
              "      <td>300.0</td>\n",
              "      <td>2.0</td>\n",
              "      <td>16</td>\n",
              "      <td>45</td>\n",
              "    </tr>\n",
              "    <tr>\n",
              "      <td>5</td>\n",
              "      <td>2.0</td>\n",
              "      <td>1961</td>\n",
              "      <td>3.0</td>\n",
              "      <td>4.0</td>\n",
              "      <td>1.0</td>\n",
              "      <td>2.0</td>\n",
              "      <td>1.0</td>\n",
              "      <td>951.0</td>\n",
              "      <td>100.0</td>\n",
              "      <td>2.0</td>\n",
              "      <td>9</td>\n",
              "      <td>59</td>\n",
              "    </tr>\n",
              "    <tr>\n",
              "      <td>...</td>\n",
              "      <td>...</td>\n",
              "      <td>...</td>\n",
              "      <td>...</td>\n",
              "      <td>...</td>\n",
              "      <td>...</td>\n",
              "      <td>...</td>\n",
              "      <td>...</td>\n",
              "      <td>...</td>\n",
              "      <td>...</td>\n",
              "      <td>...</td>\n",
              "      <td>...</td>\n",
              "      <td>...</td>\n",
              "    </tr>\n",
              "    <tr>\n",
              "      <td>4502</td>\n",
              "      <td>1.0</td>\n",
              "      <td>1966</td>\n",
              "      <td>6.0</td>\n",
              "      <td>5.0</td>\n",
              "      <td>1.0</td>\n",
              "      <td>1.0</td>\n",
              "      <td>6.0</td>\n",
              "      <td>874.0</td>\n",
              "      <td>230.0</td>\n",
              "      <td>2.0</td>\n",
              "      <td>12</td>\n",
              "      <td>54</td>\n",
              "    </tr>\n",
              "    <tr>\n",
              "      <td>4503</td>\n",
              "      <td>2.0</td>\n",
              "      <td>1962</td>\n",
              "      <td>6.0</td>\n",
              "      <td>7.0</td>\n",
              "      <td>1.0</td>\n",
              "      <td>1.0</td>\n",
              "      <td>6.0</td>\n",
              "      <td>899.0</td>\n",
              "      <td>138.0</td>\n",
              "      <td>2.0</td>\n",
              "      <td>16</td>\n",
              "      <td>58</td>\n",
              "    </tr>\n",
              "    <tr>\n",
              "      <td>4504</td>\n",
              "      <td>2.0</td>\n",
              "      <td>1993</td>\n",
              "      <td>1.0</td>\n",
              "      <td>5.0</td>\n",
              "      <td>5.0</td>\n",
              "      <td>2.0</td>\n",
              "      <td>5.0</td>\n",
              "      <td>411.0</td>\n",
              "      <td>286.0</td>\n",
              "      <td>2.0</td>\n",
              "      <td>12</td>\n",
              "      <td>27</td>\n",
              "    </tr>\n",
              "    <tr>\n",
              "      <td>4505</td>\n",
              "      <td>1.0</td>\n",
              "      <td>1956</td>\n",
              "      <td>2.0</td>\n",
              "      <td>5.0</td>\n",
              "      <td>1.0</td>\n",
              "      <td>1.0</td>\n",
              "      <td>6.0</td>\n",
              "      <td>854.0</td>\n",
              "      <td>179.0</td>\n",
              "      <td>2.0</td>\n",
              "      <td>12</td>\n",
              "      <td>64</td>\n",
              "    </tr>\n",
              "    <tr>\n",
              "      <td>4506</td>\n",
              "      <td>1.0</td>\n",
              "      <td>1995</td>\n",
              "      <td>6.0</td>\n",
              "      <td>5.0</td>\n",
              "      <td>5.0</td>\n",
              "      <td>1.0</td>\n",
              "      <td>5.0</td>\n",
              "      <td>521.0</td>\n",
              "      <td>72.0</td>\n",
              "      <td>2.0</td>\n",
              "      <td>12</td>\n",
              "      <td>25</td>\n",
              "    </tr>\n",
              "  </tbody>\n",
              "</table>\n",
              "<p>4254 rows × 12 columns</p>\n",
              "</div>"
            ],
            "text/plain": [
              "      sex  birth  number  education  marriage  religion  region    job  \\\n",
              "0     1.0   1942     2.0        7.0       3.0       1.0     1.0  762.0   \n",
              "2     1.0   1978     4.0        7.0       1.0       2.0     1.0  312.0   \n",
              "3     2.0   1975     4.0        7.0       1.0       2.0     1.0  254.0   \n",
              "4     1.0   1975     1.0        7.0       5.0       1.0     1.0  286.0   \n",
              "5     2.0   1961     3.0        4.0       1.0       2.0     1.0  951.0   \n",
              "...   ...    ...     ...        ...       ...       ...     ...    ...   \n",
              "4502  1.0   1966     6.0        5.0       1.0       1.0     6.0  874.0   \n",
              "4503  2.0   1962     6.0        7.0       1.0       1.0     6.0  899.0   \n",
              "4504  2.0   1993     1.0        5.0       5.0       2.0     5.0  411.0   \n",
              "4505  1.0   1956     2.0        5.0       1.0       1.0     6.0  854.0   \n",
              "4506  1.0   1995     6.0        5.0       5.0       1.0     5.0  521.0   \n",
              "\n",
              "      income  somking  education_year  age  \n",
              "0      108.9      2.0              16   78  \n",
              "2      322.0      1.0              16   42  \n",
              "3      120.0      2.0              16   45  \n",
              "4      300.0      2.0              16   45  \n",
              "5      100.0      2.0               9   59  \n",
              "...      ...      ...             ...  ...  \n",
              "4502   230.0      2.0              12   54  \n",
              "4503   138.0      2.0              16   58  \n",
              "4504   286.0      2.0              12   27  \n",
              "4505   179.0      2.0              12   64  \n",
              "4506    72.0      2.0              12   25  \n",
              "\n",
              "[4254 rows x 12 columns]"
            ]
          },
          "metadata": {
            "tags": []
          },
          "execution_count": 9
        }
      ]
    },
    {
      "cell_type": "code",
      "metadata": {
        "id": "vc1iFAldwRCp",
        "colab_type": "code",
        "colab": {}
      },
      "source": [
        ""
      ],
      "execution_count": 0,
      "outputs": []
    },
    {
      "cell_type": "code",
      "metadata": {
        "id": "jJS0hcG8wRCr",
        "colab_type": "code",
        "colab": {}
      },
      "source": [
        "# 1. marriaged, 2. single\n",
        "def status(x):\n",
        "    if x==1:\n",
        "        return 1\n",
        "    elif x==3:\n",
        "        return 2\n",
        "    elif x==4:\n",
        "        return 3\n",
        "    else:\n",
        "        return 4"
      ],
      "execution_count": 0,
      "outputs": []
    },
    {
      "cell_type": "code",
      "metadata": {
        "id": "YotBm4E-wRCt",
        "colab_type": "code",
        "colab": {}
      },
      "source": [
        "df['marriage_type'] = df['marriage'].apply(status)"
      ],
      "execution_count": 0,
      "outputs": []
    },
    {
      "cell_type": "code",
      "metadata": {
        "id": "5GEP6VFgwRCv",
        "colab_type": "code",
        "colab": {}
      },
      "source": [
        "df['age2'] = df['age']**2\n",
        "df['job_code'] = (df['job']/100).astype(int)\n",
        "df['sex'] = (df['sex']).astype(int)\n",
        "df['smoking'] = (df['somking']).astype(int)\n",
        "df['religion'] = (df['religion']).astype(int)"
      ],
      "execution_count": 0,
      "outputs": []
    },
    {
      "cell_type": "code",
      "metadata": {
        "id": "vwqrXfyQwRCw",
        "colab_type": "code",
        "colab": {}
      },
      "source": [
        "sex_dummies = pd.get_dummies(df['sex']).rename(columns=lambda x: 's'+str(x))\n",
        "smoking_dummies = pd.get_dummies(df['smoking']).rename(columns=lambda x: 'k'+str(x))\n",
        "job_dummies = pd.get_dummies(df['job_code']).rename(columns=lambda x: 'd'+str(x))\n",
        "religion_dummies = pd.get_dummies(df['religion']).rename(columns=lambda x: 'r'+str(x))"
      ],
      "execution_count": 0,
      "outputs": []
    },
    {
      "cell_type": "code",
      "metadata": {
        "id": "zaf-W4DRwRCy",
        "colab_type": "code",
        "colab": {}
      },
      "source": [
        "df1 = pd.concat([df, religion_dummies, sex_dummies, smoking_dummies], axis=1)"
      ],
      "execution_count": 0,
      "outputs": []
    },
    {
      "cell_type": "code",
      "metadata": {
        "id": "mCFAwgcCwRC0",
        "colab_type": "code",
        "outputId": "cf2c9b47-be7a-4b2f-e2f2-c93df9245f0f",
        "colab": {}
      },
      "source": [
        "df1"
      ],
      "execution_count": 0,
      "outputs": [
        {
          "output_type": "execute_result",
          "data": {
            "text/html": [
              "<div>\n",
              "<style scoped>\n",
              "    .dataframe tbody tr th:only-of-type {\n",
              "        vertical-align: middle;\n",
              "    }\n",
              "\n",
              "    .dataframe tbody tr th {\n",
              "        vertical-align: top;\n",
              "    }\n",
              "\n",
              "    .dataframe thead th {\n",
              "        text-align: right;\n",
              "    }\n",
              "</style>\n",
              "<table border=\"1\" class=\"dataframe\">\n",
              "  <thead>\n",
              "    <tr style=\"text-align: right;\">\n",
              "      <th></th>\n",
              "      <th>sex</th>\n",
              "      <th>birth</th>\n",
              "      <th>number</th>\n",
              "      <th>education</th>\n",
              "      <th>marriage</th>\n",
              "      <th>religion</th>\n",
              "      <th>region</th>\n",
              "      <th>job</th>\n",
              "      <th>income</th>\n",
              "      <th>somking</th>\n",
              "      <th>...</th>\n",
              "      <th>marriage_type</th>\n",
              "      <th>age2</th>\n",
              "      <th>job_code</th>\n",
              "      <th>smoking</th>\n",
              "      <th>r1</th>\n",
              "      <th>r2</th>\n",
              "      <th>s1</th>\n",
              "      <th>s2</th>\n",
              "      <th>k1</th>\n",
              "      <th>k2</th>\n",
              "    </tr>\n",
              "  </thead>\n",
              "  <tbody>\n",
              "    <tr>\n",
              "      <td>0</td>\n",
              "      <td>1</td>\n",
              "      <td>1942</td>\n",
              "      <td>2.0</td>\n",
              "      <td>7.0</td>\n",
              "      <td>3.0</td>\n",
              "      <td>1</td>\n",
              "      <td>1.0</td>\n",
              "      <td>762.0</td>\n",
              "      <td>108.9</td>\n",
              "      <td>2.0</td>\n",
              "      <td>...</td>\n",
              "      <td>2</td>\n",
              "      <td>6084</td>\n",
              "      <td>7</td>\n",
              "      <td>2</td>\n",
              "      <td>1</td>\n",
              "      <td>0</td>\n",
              "      <td>1</td>\n",
              "      <td>0</td>\n",
              "      <td>0</td>\n",
              "      <td>1</td>\n",
              "    </tr>\n",
              "    <tr>\n",
              "      <td>1</td>\n",
              "      <td>2</td>\n",
              "      <td>1940</td>\n",
              "      <td>1.0</td>\n",
              "      <td>3.0</td>\n",
              "      <td>2.0</td>\n",
              "      <td>1</td>\n",
              "      <td>2.0</td>\n",
              "      <td>999.0</td>\n",
              "      <td>20.0</td>\n",
              "      <td>2.0</td>\n",
              "      <td>...</td>\n",
              "      <td>4</td>\n",
              "      <td>6400</td>\n",
              "      <td>9</td>\n",
              "      <td>2</td>\n",
              "      <td>1</td>\n",
              "      <td>0</td>\n",
              "      <td>0</td>\n",
              "      <td>1</td>\n",
              "      <td>0</td>\n",
              "      <td>1</td>\n",
              "    </tr>\n",
              "    <tr>\n",
              "      <td>2</td>\n",
              "      <td>1</td>\n",
              "      <td>1978</td>\n",
              "      <td>4.0</td>\n",
              "      <td>7.0</td>\n",
              "      <td>1.0</td>\n",
              "      <td>2</td>\n",
              "      <td>1.0</td>\n",
              "      <td>312.0</td>\n",
              "      <td>322.0</td>\n",
              "      <td>1.0</td>\n",
              "      <td>...</td>\n",
              "      <td>1</td>\n",
              "      <td>1764</td>\n",
              "      <td>3</td>\n",
              "      <td>1</td>\n",
              "      <td>0</td>\n",
              "      <td>1</td>\n",
              "      <td>1</td>\n",
              "      <td>0</td>\n",
              "      <td>1</td>\n",
              "      <td>0</td>\n",
              "    </tr>\n",
              "    <tr>\n",
              "      <td>3</td>\n",
              "      <td>2</td>\n",
              "      <td>1975</td>\n",
              "      <td>4.0</td>\n",
              "      <td>7.0</td>\n",
              "      <td>1.0</td>\n",
              "      <td>2</td>\n",
              "      <td>1.0</td>\n",
              "      <td>254.0</td>\n",
              "      <td>120.0</td>\n",
              "      <td>2.0</td>\n",
              "      <td>...</td>\n",
              "      <td>1</td>\n",
              "      <td>2025</td>\n",
              "      <td>2</td>\n",
              "      <td>2</td>\n",
              "      <td>0</td>\n",
              "      <td>1</td>\n",
              "      <td>0</td>\n",
              "      <td>1</td>\n",
              "      <td>0</td>\n",
              "      <td>1</td>\n",
              "    </tr>\n",
              "    <tr>\n",
              "      <td>4</td>\n",
              "      <td>1</td>\n",
              "      <td>1975</td>\n",
              "      <td>1.0</td>\n",
              "      <td>7.0</td>\n",
              "      <td>5.0</td>\n",
              "      <td>1</td>\n",
              "      <td>1.0</td>\n",
              "      <td>286.0</td>\n",
              "      <td>300.0</td>\n",
              "      <td>2.0</td>\n",
              "      <td>...</td>\n",
              "      <td>4</td>\n",
              "      <td>2025</td>\n",
              "      <td>2</td>\n",
              "      <td>2</td>\n",
              "      <td>1</td>\n",
              "      <td>0</td>\n",
              "      <td>1</td>\n",
              "      <td>0</td>\n",
              "      <td>0</td>\n",
              "      <td>1</td>\n",
              "    </tr>\n",
              "    <tr>\n",
              "      <td>...</td>\n",
              "      <td>...</td>\n",
              "      <td>...</td>\n",
              "      <td>...</td>\n",
              "      <td>...</td>\n",
              "      <td>...</td>\n",
              "      <td>...</td>\n",
              "      <td>...</td>\n",
              "      <td>...</td>\n",
              "      <td>...</td>\n",
              "      <td>...</td>\n",
              "      <td>...</td>\n",
              "      <td>...</td>\n",
              "      <td>...</td>\n",
              "      <td>...</td>\n",
              "      <td>...</td>\n",
              "      <td>...</td>\n",
              "      <td>...</td>\n",
              "      <td>...</td>\n",
              "      <td>...</td>\n",
              "      <td>...</td>\n",
              "      <td>...</td>\n",
              "    </tr>\n",
              "    <tr>\n",
              "      <td>4502</td>\n",
              "      <td>1</td>\n",
              "      <td>1966</td>\n",
              "      <td>6.0</td>\n",
              "      <td>5.0</td>\n",
              "      <td>1.0</td>\n",
              "      <td>1</td>\n",
              "      <td>6.0</td>\n",
              "      <td>874.0</td>\n",
              "      <td>230.0</td>\n",
              "      <td>2.0</td>\n",
              "      <td>...</td>\n",
              "      <td>1</td>\n",
              "      <td>2916</td>\n",
              "      <td>8</td>\n",
              "      <td>2</td>\n",
              "      <td>1</td>\n",
              "      <td>0</td>\n",
              "      <td>1</td>\n",
              "      <td>0</td>\n",
              "      <td>0</td>\n",
              "      <td>1</td>\n",
              "    </tr>\n",
              "    <tr>\n",
              "      <td>4503</td>\n",
              "      <td>2</td>\n",
              "      <td>1962</td>\n",
              "      <td>6.0</td>\n",
              "      <td>7.0</td>\n",
              "      <td>1.0</td>\n",
              "      <td>1</td>\n",
              "      <td>6.0</td>\n",
              "      <td>899.0</td>\n",
              "      <td>138.0</td>\n",
              "      <td>2.0</td>\n",
              "      <td>...</td>\n",
              "      <td>1</td>\n",
              "      <td>3364</td>\n",
              "      <td>8</td>\n",
              "      <td>2</td>\n",
              "      <td>1</td>\n",
              "      <td>0</td>\n",
              "      <td>0</td>\n",
              "      <td>1</td>\n",
              "      <td>0</td>\n",
              "      <td>1</td>\n",
              "    </tr>\n",
              "    <tr>\n",
              "      <td>4504</td>\n",
              "      <td>2</td>\n",
              "      <td>1993</td>\n",
              "      <td>1.0</td>\n",
              "      <td>5.0</td>\n",
              "      <td>5.0</td>\n",
              "      <td>2</td>\n",
              "      <td>5.0</td>\n",
              "      <td>411.0</td>\n",
              "      <td>286.0</td>\n",
              "      <td>2.0</td>\n",
              "      <td>...</td>\n",
              "      <td>4</td>\n",
              "      <td>729</td>\n",
              "      <td>4</td>\n",
              "      <td>2</td>\n",
              "      <td>0</td>\n",
              "      <td>1</td>\n",
              "      <td>0</td>\n",
              "      <td>1</td>\n",
              "      <td>0</td>\n",
              "      <td>1</td>\n",
              "    </tr>\n",
              "    <tr>\n",
              "      <td>4505</td>\n",
              "      <td>1</td>\n",
              "      <td>1956</td>\n",
              "      <td>2.0</td>\n",
              "      <td>5.0</td>\n",
              "      <td>1.0</td>\n",
              "      <td>1</td>\n",
              "      <td>6.0</td>\n",
              "      <td>854.0</td>\n",
              "      <td>179.0</td>\n",
              "      <td>2.0</td>\n",
              "      <td>...</td>\n",
              "      <td>1</td>\n",
              "      <td>4096</td>\n",
              "      <td>8</td>\n",
              "      <td>2</td>\n",
              "      <td>1</td>\n",
              "      <td>0</td>\n",
              "      <td>1</td>\n",
              "      <td>0</td>\n",
              "      <td>0</td>\n",
              "      <td>1</td>\n",
              "    </tr>\n",
              "    <tr>\n",
              "      <td>4506</td>\n",
              "      <td>1</td>\n",
              "      <td>1995</td>\n",
              "      <td>6.0</td>\n",
              "      <td>5.0</td>\n",
              "      <td>5.0</td>\n",
              "      <td>1</td>\n",
              "      <td>5.0</td>\n",
              "      <td>521.0</td>\n",
              "      <td>72.0</td>\n",
              "      <td>2.0</td>\n",
              "      <td>...</td>\n",
              "      <td>4</td>\n",
              "      <td>625</td>\n",
              "      <td>5</td>\n",
              "      <td>2</td>\n",
              "      <td>1</td>\n",
              "      <td>0</td>\n",
              "      <td>1</td>\n",
              "      <td>0</td>\n",
              "      <td>0</td>\n",
              "      <td>1</td>\n",
              "    </tr>\n",
              "  </tbody>\n",
              "</table>\n",
              "<p>4507 rows × 22 columns</p>\n",
              "</div>"
            ],
            "text/plain": [
              "      sex  birth  number  education  marriage  religion  region    job  \\\n",
              "0       1   1942     2.0        7.0       3.0         1     1.0  762.0   \n",
              "1       2   1940     1.0        3.0       2.0         1     2.0  999.0   \n",
              "2       1   1978     4.0        7.0       1.0         2     1.0  312.0   \n",
              "3       2   1975     4.0        7.0       1.0         2     1.0  254.0   \n",
              "4       1   1975     1.0        7.0       5.0         1     1.0  286.0   \n",
              "...   ...    ...     ...        ...       ...       ...     ...    ...   \n",
              "4502    1   1966     6.0        5.0       1.0         1     6.0  874.0   \n",
              "4503    2   1962     6.0        7.0       1.0         1     6.0  899.0   \n",
              "4504    2   1993     1.0        5.0       5.0         2     5.0  411.0   \n",
              "4505    1   1956     2.0        5.0       1.0         1     6.0  854.0   \n",
              "4506    1   1995     6.0        5.0       5.0         1     5.0  521.0   \n",
              "\n",
              "      income  somking  ...  marriage_type  age2  job_code  smoking  r1  r2  \\\n",
              "0      108.9      2.0  ...              2  6084         7        2   1   0   \n",
              "1       20.0      2.0  ...              4  6400         9        2   1   0   \n",
              "2      322.0      1.0  ...              1  1764         3        1   0   1   \n",
              "3      120.0      2.0  ...              1  2025         2        2   0   1   \n",
              "4      300.0      2.0  ...              4  2025         2        2   1   0   \n",
              "...      ...      ...  ...            ...   ...       ...      ...  ..  ..   \n",
              "4502   230.0      2.0  ...              1  2916         8        2   1   0   \n",
              "4503   138.0      2.0  ...              1  3364         8        2   1   0   \n",
              "4504   286.0      2.0  ...              4   729         4        2   0   1   \n",
              "4505   179.0      2.0  ...              1  4096         8        2   1   0   \n",
              "4506    72.0      2.0  ...              4   625         5        2   1   0   \n",
              "\n",
              "      s1  s2  k1  k2  \n",
              "0      1   0   0   1  \n",
              "1      0   1   0   1  \n",
              "2      1   0   1   0  \n",
              "3      0   1   0   1  \n",
              "4      1   0   0   1  \n",
              "...   ..  ..  ..  ..  \n",
              "4502   1   0   0   1  \n",
              "4503   0   1   0   1  \n",
              "4504   0   1   0   1  \n",
              "4505   1   0   0   1  \n",
              "4506   1   0   0   1  \n",
              "\n",
              "[4507 rows x 22 columns]"
            ]
          },
          "metadata": {
            "tags": []
          },
          "execution_count": 15
        }
      ]
    },
    {
      "cell_type": "markdown",
      "metadata": {
        "id": "o1mXje_1wRC1",
        "colab_type": "text"
      },
      "source": [
        "### 2. 소득, 나이, 나이2, 교육연수, 셩별더미, 흡연여부더미, 종교여부 더미를 X  변수로, 결혼여부를 Y 변수로 두고 Logistic Regression을 실시하고 결과를 해석합니다.(20점)"
      ]
    },
    {
      "cell_type": "markdown",
      "metadata": {
        "id": "TKuhxehswuqM",
        "colab_type": "text"
      },
      "source": [
        "# 새 섹션"
      ]
    },
    {
      "cell_type": "code",
      "metadata": {
        "id": "5AqXdVJLwRC3",
        "colab_type": "code",
        "colab": {}
      },
      "source": [
        "x_data =df1[['income', 'age', 'age2', 'education_year', 's1', 'k1', 'r1']].to_numpy()"
      ],
      "execution_count": 0,
      "outputs": []
    },
    {
      "cell_type": "code",
      "metadata": {
        "id": "4o3gMsdewRC4",
        "colab_type": "code",
        "colab": {}
      },
      "source": [
        "#y_data =df1['marriage_type'].to_numpy()\n",
        "y_data =df1[['marriage_type']].to_numpy()"
      ],
      "execution_count": 0,
      "outputs": []
    },
    {
      "cell_type": "markdown",
      "metadata": {
        "id": "mum_4UOHwRC6",
        "colab_type": "text"
      },
      "source": [
        "### 3. Tensorflow를 통한 계수 및 정확도 추정"
      ]
    },
    {
      "cell_type": "markdown",
      "metadata": {
        "id": "3TD5txqVwRC7",
        "colab_type": "text"
      },
      "source": [
        "<h4> 가. 데이타"
      ]
    },
    {
      "cell_type": "code",
      "metadata": {
        "id": "5f7qL9GjwRC7",
        "colab_type": "code",
        "colab": {}
      },
      "source": [
        "#convert into numpy and float format\n",
        "X = np.asarray(x_data, dtype=np.float32)\n",
        "y = np.asarray(y_data, dtype=np.float32)"
      ],
      "execution_count": 0,
      "outputs": []
    },
    {
      "cell_type": "code",
      "metadata": {
        "id": "vkJZNABSwRC9",
        "colab_type": "code",
        "outputId": "543009dd-fd9b-42b3-b13c-8858c6ca17cd",
        "colab": {}
      },
      "source": [
        "print(X.shape)\n",
        "print(y.shape)"
      ],
      "execution_count": 0,
      "outputs": [
        {
          "output_type": "stream",
          "text": [
            "(4507, 7)\n",
            "(4507, 1)\n"
          ],
          "name": "stdout"
        }
      ]
    },
    {
      "cell_type": "code",
      "metadata": {
        "id": "DuVFa_JYwRC_",
        "colab_type": "code",
        "colab": {}
      },
      "source": [
        "k = x_data.shape[1]"
      ],
      "execution_count": 0,
      "outputs": []
    },
    {
      "cell_type": "code",
      "metadata": {
        "id": "vwQm37nBwRDA",
        "colab_type": "code",
        "outputId": "e2086195-a87c-429a-81f4-8e7fafa15701",
        "colab": {}
      },
      "source": [
        "k"
      ],
      "execution_count": 0,
      "outputs": [
        {
          "output_type": "execute_result",
          "data": {
            "text/plain": [
              "7"
            ]
          },
          "metadata": {
            "tags": []
          },
          "execution_count": 29
        }
      ]
    },
    {
      "cell_type": "code",
      "metadata": {
        "id": "TiiupyHtwRDC",
        "colab_type": "code",
        "colab": {}
      },
      "source": [
        "nb_classes = 4  # 1-4"
      ],
      "execution_count": 0,
      "outputs": []
    },
    {
      "cell_type": "code",
      "metadata": {
        "id": "Ef0xh9ekwRDE",
        "colab_type": "code",
        "colab": {}
      },
      "source": [
        "Y_one_hot = tf.one_hot(y.astype(np.int32), nb_classes)"
      ],
      "execution_count": 0,
      "outputs": []
    },
    {
      "cell_type": "code",
      "metadata": {
        "id": "0yzObZeTwRDG",
        "colab_type": "code",
        "outputId": "61f5817a-27c1-4576-9081-1072a208903d",
        "colab": {}
      },
      "source": [
        "Y_one_hot"
      ],
      "execution_count": 0,
      "outputs": [
        {
          "output_type": "execute_result",
          "data": {
            "text/plain": [
              "<tf.Tensor: shape=(4507, 1, 4), dtype=float32, numpy=\n",
              "array([[[0., 0., 1., 0.]],\n",
              "\n",
              "       [[0., 0., 0., 0.]],\n",
              "\n",
              "       [[0., 1., 0., 0.]],\n",
              "\n",
              "       ...,\n",
              "\n",
              "       [[0., 0., 0., 0.]],\n",
              "\n",
              "       [[0., 1., 0., 0.]],\n",
              "\n",
              "       [[0., 0., 0., 0.]]], dtype=float32)>"
            ]
          },
          "metadata": {
            "tags": []
          },
          "execution_count": 34
        }
      ]
    },
    {
      "cell_type": "code",
      "metadata": {
        "id": "if1Exa9-wRDI",
        "colab_type": "code",
        "colab": {}
      },
      "source": [
        "Y_one_hot = tf.reshape(Y_one_hot,[4507, -1] )"
      ],
      "execution_count": 0,
      "outputs": []
    },
    {
      "cell_type": "code",
      "metadata": {
        "id": "1VDOWdNGwRDK",
        "colab_type": "code",
        "outputId": "5545498d-5b79-44dd-ef88-3286d9b1fd75",
        "colab": {}
      },
      "source": [
        "Y_one_hot"
      ],
      "execution_count": 0,
      "outputs": [
        {
          "output_type": "execute_result",
          "data": {
            "text/plain": [
              "<tf.Tensor: shape=(4507, 4), dtype=float32, numpy=\n",
              "array([[0., 0., 1., 0.],\n",
              "       [0., 0., 0., 0.],\n",
              "       [0., 1., 0., 0.],\n",
              "       ...,\n",
              "       [0., 0., 0., 0.],\n",
              "       [0., 1., 0., 0.],\n",
              "       [0., 0., 0., 0.]], dtype=float32)>"
            ]
          },
          "metadata": {
            "tags": []
          },
          "execution_count": 36
        }
      ]
    },
    {
      "cell_type": "code",
      "metadata": {
        "id": "hJK2AONrwRDM",
        "colab_type": "code",
        "outputId": "202be129-8345-4d77-8760-806d5ea7332e",
        "colab": {}
      },
      "source": [
        "X.shape"
      ],
      "execution_count": 0,
      "outputs": [
        {
          "output_type": "execute_result",
          "data": {
            "text/plain": [
              "(4507, 7)"
            ]
          },
          "metadata": {
            "tags": []
          },
          "execution_count": 37
        }
      ]
    },
    {
      "cell_type": "code",
      "metadata": {
        "id": "-bi3qs99wRDN",
        "colab_type": "code",
        "outputId": "ddf0ebfc-0280-4078-bd72-8ef9b882fd75",
        "colab": {}
      },
      "source": [
        "k"
      ],
      "execution_count": 0,
      "outputs": [
        {
          "output_type": "execute_result",
          "data": {
            "text/plain": [
              "7"
            ]
          },
          "metadata": {
            "tags": []
          },
          "execution_count": 38
        }
      ]
    },
    {
      "cell_type": "code",
      "metadata": {
        "id": "GhSoJwfEwRDP",
        "colab_type": "code",
        "outputId": "f4bce55d-69a1-49b7-9b65-ecd7856ea490",
        "colab": {}
      },
      "source": [
        "W = tf.Variable(tf.random.normal((k, nb_classes)), name='weight')\n",
        "b = tf.Variable(tf.random.normal((nb_classes,)), name='bias')\n",
        "\n",
        "learning_rate = tf.Variable(0.001)\n",
        "\n",
        "for i in range(500000+1):\n",
        "    with tf.GradientTape() as tape:\n",
        "        \n",
        "        logits = tf.matmul(X, W) + b\n",
        "        \n",
        "        hypothesis  = tf.nn.softmax(logits)\n",
        "        \n",
        "        cost_i = tf.keras.losses.categorical_crossentropy(y_true=Y_one_hot, y_pred=logits, from_logits=True) \n",
        "        cost = tf.reduce_mean(cost_i) \n",
        "\n",
        "        W_grad, b_grad = tape.gradient(cost, [W, b])\n",
        "        \n",
        "        W.assign_sub(learning_rate * W_grad)\n",
        "        b.assign_sub(learning_rate * b_grad)\n",
        "        \n",
        "        predicted = tf.argmax(hypothesis, 1)\n",
        "        correct_prediction = tf.equal(predicted, tf.argmax(Y_one_hot,1))\n",
        "        accuracy = tf.reduce_mean(tf.cast(correct_prediction, dtype=tf.float32))\n",
        "    \n",
        "    if i % 50000 == 0:\n",
        "        print(\"Steps: {:5} | Costs: {:10.6f} | Accuracy {:10.6f}\".format(i, cost.numpy(), accuracy.numpy()))"
      ],
      "execution_count": 0,
      "outputs": [
        {
          "output_type": "stream",
          "text": [
            "Steps:     0 | Costs: 2320.653564 | Accuracy   0.288440\n",
            "Steps: 50000 | Costs: 649.624939 | Accuracy   0.104060\n",
            "Steps: 100000 | Costs: 223.137314 | Accuracy   0.639006\n",
            "Steps: 150000 | Costs: 568.246521 | Accuracy   0.345463\n",
            "Steps: 200000 | Costs: 260.699371 | Accuracy   0.432660\n",
            "Steps: 250000 | Costs: 103.910416 | Accuracy   0.622365\n",
            "Steps: 300000 | Costs: 277.779449 | Accuracy   0.644997\n",
            "Steps: 350000 | Costs: 294.088318 | Accuracy   0.648990\n",
            "Steps: 400000 | Costs: 526.879944 | Accuracy   0.644997\n",
            "Steps: 450000 | Costs: 433.266754 | Accuracy   0.123807\n",
            "Steps: 500000 | Costs: 248.028397 | Accuracy   0.644997\n"
          ],
          "name": "stdout"
        }
      ]
    },
    {
      "cell_type": "code",
      "metadata": {
        "id": "5hqRkCsLwRDR",
        "colab_type": "code",
        "colab": {}
      },
      "source": [
        ""
      ],
      "execution_count": 0,
      "outputs": []
    }
  ]
}